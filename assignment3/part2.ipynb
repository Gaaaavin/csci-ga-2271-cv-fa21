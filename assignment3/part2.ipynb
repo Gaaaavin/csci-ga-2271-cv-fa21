{
 "cells": [
  {
   "cell_type": "code",
   "execution_count": 43,
   "metadata": {},
   "outputs": [],
   "source": [
    "import numpy as np\n",
    "from scipy import linalg"
   ]
  },
  {
   "cell_type": "code",
   "execution_count": 30,
   "metadata": {},
   "outputs": [
    {
     "name": "stdout",
     "output_type": "stream",
     "text": [
      "P = [[ 1.26999923e-01  2.54000421e-01  3.81000424e-01  5.08000461e-01]\n",
      " [ 5.08000396e-01  3.81000498e-01  2.54000285e-01  1.27000081e-01]\n",
      " [ 1.27000114e-01  3.19910341e-08  1.27000147e-01 -2.82741332e-08]]\n",
      "error from PX to x: [[2.10995621e-08 5.22170458e-08 2.42879024e-08 5.41910250e-09\n",
      "  3.80338836e-08 9.53580912e-08 6.61673933e-08 5.64696450e-08\n",
      "  9.13425975e-08 9.32457134e-09]\n",
      " [4.48138344e-08 2.31629320e-08 3.80236278e-08 3.64908272e-08\n",
      "  2.44469156e-08 1.61351192e-07 2.54889940e-08 6.85374379e-09\n",
      "  1.10251662e-07 8.51481996e-09]\n",
      " [0.00000000e+00 0.00000000e+00 0.00000000e+00 0.00000000e+00\n",
      "  0.00000000e+00 0.00000000e+00 0.00000000e+00 0.00000000e+00\n",
      "  0.00000000e+00 0.00000000e+00]]\n"
     ]
    }
   ],
   "source": [
    "# (a)\n",
    "with open(\"image.txt\", 'r') as f:\n",
    "    image = f.readlines()\n",
    "    image = [image[0].strip().split('  '), image[1].strip().split('  ')]\n",
    "    image = np.array(image, dtype='float32')\n",
    "\n",
    "with open(\"world.txt\", 'r') as f:\n",
    "    world = f.readlines()\n",
    "    world = [world[0].strip().split('  '), world[1].strip().split('  '), world[2].strip().split('  ')]\n",
    "    world = np.array(world, dtype='float32')\n",
    "\n",
    "image = np.concatenate((image, np.ones((1, image.shape[1]))))\n",
    "world = np.concatenate((world, np.ones((1, world.shape[1]))))\n",
    "\n",
    "A = np.zeros((world.shape[1]*2, 12))\n",
    "for i in range(world.shape[1]):\n",
    "    A[2*i, 4:8] = -world[:, i].T\n",
    "    A[2*i, 8:] = world[:, i].T * image[1, i]\n",
    "    A[2*i+1, :4] = world[:, i].T\n",
    "    A[2*i+1, 8:] = -world[:, i].T * image[0, i]\n",
    "\n",
    "# print(p)\n",
    "temp0 = np.linalg.svd(A)[1]\n",
    "temp = np.linalg.svd(A)[2]\n",
    "p = np.linalg.svd(A)[2][-1, :]\n",
    "P = p.reshape(3, 4)\n",
    "homo_image = P @ world\n",
    "projected_image = homo_image / homo_image[2, :]\n",
    "print(\"P =\", P)\n",
    "print(\"error from PX to x:\", np.abs(image - projected_image))"
   ]
  },
  {
   "cell_type": "code",
   "execution_count": 37,
   "metadata": {},
   "outputs": [
    {
     "name": "stdout",
     "output_type": "stream",
     "text": [
      "C tilde =  [ 0.99999976 -0.99999952 -0.99999903]\n"
     ]
    }
   ],
   "source": [
    "# (b) Method 1\n",
    "C = np.linalg.svd(P)[2][-1, :]\n",
    "C_tilde = (C / C[-1])[:3]\n",
    "print(\"C tilde = \", C_tilde)"
   ]
  },
  {
   "cell_type": "code",
   "execution_count": 49,
   "metadata": {},
   "outputs": [
    {
     "name": "stdout",
     "output_type": "stream",
     "text": [
      "C_tilde =  [ 0.99999976 -0.99999952 -0.99999903]\n"
     ]
    }
   ],
   "source": [
    "# (b) Method 2\n",
    "KR = P[:3, :3]\n",
    "C_tilde = np.linalg.solve(-KR, P[:, 3])\n",
    "print(\"C_tilde = \", C_tilde)"
   ]
  }
 ],
 "metadata": {
  "interpreter": {
   "hash": "aee8b7b246df8f9039afb4144a1f6fd8d2ca17a180786b69acc140d282b71a49"
  },
  "kernelspec": {
   "display_name": "Python 3.7.7 64-bit",
   "language": "python",
   "name": "python3"
  },
  "language_info": {
   "codemirror_mode": {
    "name": "ipython",
    "version": 3
   },
   "file_extension": ".py",
   "mimetype": "text/x-python",
   "name": "python",
   "nbconvert_exporter": "python",
   "pygments_lexer": "ipython3",
   "version": "3.7.7"
  },
  "orig_nbformat": 4
 },
 "nbformat": 4,
 "nbformat_minor": 2
}
